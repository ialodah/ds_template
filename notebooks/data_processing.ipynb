{
 "cells": [
  {
   "cell_type": "code",
   "execution_count": 171,
   "id": "296b8d6b-c191-4fdd-9ac2-5b577b1874e9",
   "metadata": {},
   "outputs": [],
   "source": [
    "# Importing libraries\n",
    "import pandas as pd\n",
    "import matplotlib.pyplot as plt\n",
    "import pathlib\n",
    "import os\n",
    "import re\n",
    "import itertools\n",
    "from datetime import date\n",
    "import datetime"
   ]
  },
  {
   "cell_type": "markdown",
   "id": "97d0e671",
   "metadata": {},
   "source": [
    "We have two files:\n",
    "1- Diabetes patients admission encounter diabetes_data.csv.\n",
    "2- Mapping file that can be used to make the variables have clear meaning."
   ]
  },
  {
   "cell_type": "code",
   "execution_count": 18,
   "metadata": {},
   "outputs": [],
   "source": [
    "# Reading data\n",
    "f = open('../data/raw/IDs_mapping.csv','r')\n",
    "ids_mappings = f.read()\n",
    "diabetes_data = pd.read_csv('../data/raw/diabetes_data.csv')\n",
    "\n"
   ]
  },
  {
   "cell_type": "markdown",
   "id": "96b4ccbf",
   "metadata": {},
   "source": [
    "The mapping dataset is not typical. It has more than one table in once csv file separated by a commas. To use them for mapping the features later, I convert each table to a dictionary.\n",
    "the logic:\n",
    "take the mapping table \"ids_mappings\" text then extract the tables first. Then extract the rows and split them into rows. The individual elements will serve as either key or value in the final dictionary. "
   ]
  },
  {
   "cell_type": "code",
   "execution_count": 147,
   "id": "88f70085",
   "metadata": {},
   "outputs": [
    {
     "data": {
      "text/plain": [
       "{'admission_type_id': {'admission_type_id': 'description',\n",
       "  '1': 'emergency',\n",
       "  '2': 'urgent',\n",
       "  '3': 'elective',\n",
       "  '4': 'newborn',\n",
       "  '5': 'not_available',\n",
       "  '6': 'null',\n",
       "  '7': 'trauma_center',\n",
       "  '8': 'not_mapped'},\n",
       " 'discharge_disposition_id': {'discharge_disposition_id': 'description',\n",
       "  '1': 'discharged_to_home',\n",
       "  '2': 'discharged_transferred_to_another_short_term_hospital',\n",
       "  '3': 'discharged_transferred_to_snf',\n",
       "  '4': 'discharged_transferred_to_icf',\n",
       "  '5': 'discharged_transferred_to_another_type_of_inpatient_care_institution',\n",
       "  '6': 'discharged_transferred_to_home_with_home_health_service',\n",
       "  '7': 'left_ama',\n",
       "  '8': 'discharged_transferred_to_home_under_care_of_home_iv_provider',\n",
       "  '9': 'admitted_as_an_inpatient_to_this_hospital',\n",
       "  '10': 'neonate_discharged_to_another_hospital_for_neonatal_aftercare',\n",
       "  '11': 'expired',\n",
       "  '12': 'still_patient_or_expected_to_return_for_outpatient_services',\n",
       "  '13': 'hospice___home',\n",
       "  '14': 'hospice___medical_facility',\n",
       "  '15': 'discharged_transferred_within_this_institution_to_medicare_approved_swing_bed',\n",
       "  '16': 'discharged_transferred_referred_another_institution_for_outpatient_services',\n",
       "  '17': 'discharged_transferred_referred_to_this_institution_for_outpatient_services',\n",
       "  '18': 'not_mapped',\n",
       "  '19': 'expired_at_home_medicaid_only_hospice',\n",
       "  '20': 'expired_in_a_medical_facility_medicaid_only_hospice',\n",
       "  '21': 'expired_place_unknown_medicaid_only_hospice',\n",
       "  '22': 'discharged_transferred_to_another_rehab_fac_including_rehab_units_of_a_hospital_',\n",
       "  '23': 'discharged_transferred_to_a_long_term_care_hospital',\n",
       "  '24': 'discharged_transferred_to_a_nursing_facility_certified_under_medicaid_but_not_certified_under_medicare',\n",
       "  '25': 'not_mapped',\n",
       "  '26': 'unknown_invalid',\n",
       "  '30': 'discharged_transferred_to_another_type_of_health_care_institution_not_defined_elsewhere',\n",
       "  '27': 'discharged_transferred_to_a_federal_health_care_facility',\n",
       "  '28': 'discharged_transferred_referred_to_a_psychiatric_hospital_of_psychiatric_distinct_part_unit_of_a_hospital',\n",
       "  '29': 'discharged_transferred_to_a_critical_access_hospital_(cah)'},\n",
       " 'admission_source_id': {'admission_source_id': 'description',\n",
       "  '1': '_physician_referral',\n",
       "  '2': 'clinic_referral',\n",
       "  '3': 'hmo_referral',\n",
       "  '4': 'transfer_from_a_hospital',\n",
       "  '5': '_transfer_from_a_skilled_nursing_facility_(snf)',\n",
       "  '6': '_transfer_from_another_health_care_facility',\n",
       "  '7': '_emergency_room',\n",
       "  '8': '_court_law_enforcement',\n",
       "  '9': '_not_available',\n",
       "  '10': '_transfer_from_critial_access_hospital',\n",
       "  '11': 'normal_delivery',\n",
       "  '12': '_premature_delivery',\n",
       "  '13': '_sick_baby',\n",
       "  '14': '_extramural_birth',\n",
       "  '15': 'not_available',\n",
       "  '17': 'null',\n",
       "  '18': '_transfer_from_another_home_health_agency',\n",
       "  '19': 'readmission_to_same_home_health_agency',\n",
       "  '20': '_not_mapped',\n",
       "  '21': 'unknown_invalid',\n",
       "  '22': '_transfer_from_hospital_inpt_same_fac_reslt_in_a_sep_claim',\n",
       "  '23': '_born_inside_this_hospital',\n",
       "  '24': '_born_outside_this_hospital',\n",
       "  '25': '_transfer_from_ambulatory_surgery_center',\n",
       "  '26': 'transfer_from_hospice'}}"
      ]
     },
     "execution_count": 147,
     "metadata": {},
     "output_type": "execute_result"
    }
   ],
   "source": [
    "'''\n",
    " IDs_mapping.csv has mutiple tables in one file which is not a typical use of CSV. So I decided to read it as text then creat lists to map the numeric value \n",
    " in the feature dataframe to more understandable values.\n",
    "'''\n",
    "def convert_list_to_dict(lst):\n",
    "    pairs = itertools.zip_longest(*[iter(lst)] * 2, fillvalue=None)\n",
    "    dct = {key: value for key, value in pairs}\n",
    "    return dct\n",
    "\n",
    "# Split text to get tables\n",
    "codes_mapping_tables = ids_mappings.lower().split('\\n,\\n')\n",
    "\n",
    "# Extract tables' rows\n",
    "mapping_tables_dict = {}\n",
    "for mapping_table in codes_mapping_tables:\n",
    "    #print(mapping_table)\n",
    "    # Extract columns from rows\n",
    "    rows = re.split('\\n',mapping_table)\n",
    "    clean_cols = []\n",
    "    for row in rows:\n",
    "        cols = row.split(',')\n",
    "        if len(cols)>2:\n",
    "            #print(cols)\n",
    "            for i in range(2,len(cols)):\n",
    "                cols[1]+=cols[i]\n",
    "            cols = cols[:2]\n",
    "        clean_cols += cols\n",
    "    #print(clean_cols)\n",
    "    clean_mapping_table = [x.replace('/','_').replace(' ','_').replace('.','').replace('\"','') for x in clean_cols]\n",
    "    #print(clean_mapping_table)\n",
    "    mapping_tables_dict[ clean_cols[0]]=convert_list_to_dict(clean_mapping_table)\n",
    "\n",
    "# Clean up the dictionary\n",
    "del mapping_tables_dict['admission_source_id']['']\n",
    "mapping_tables_dict['discharge_disposition_id']['18']= 'not_mapped'\n",
    "mapping_tables_dict"
   ]
  },
  {
   "cell_type": "markdown",
   "id": "01c2d4f8",
   "metadata": {},
   "source": [
    "2- After reading the dataset diabetes_data, we start exploring the following:\n",
    "- Variables that make sense to use.\n",
    "In the table below, discharge_disposition_id column will not be used because the model is going to be used in production before discharge. \n",
    "- Birth_date can be used to create age during this inpatient encounter (age = admit_date - birth_date )\n",
    "- Encounter_id & patient_nbr are going to be used for data preparation but not as features. \n"
   ]
  },
  {
   "cell_type": "code",
   "execution_count": 148,
   "id": "d84772c2",
   "metadata": {},
   "outputs": [
    {
     "name": "stdout",
     "output_type": "stream",
     "text": [
      "<class 'pandas.core.frame.DataFrame'>\n",
      "RangeIndex: 101766 entries, 0 to 101765\n",
      "Data columns (total 50 columns):\n",
      " #   Column                    Non-Null Count   Dtype \n",
      "---  ------                    --------------   ----- \n",
      " 0   encounter_id              101766 non-null  int64 \n",
      " 1   patient_nbr               101766 non-null  int64 \n",
      " 2   race                      101766 non-null  object\n",
      " 3   gender                    101766 non-null  object\n",
      " 4   weight                    101766 non-null  object\n",
      " 5   admission_type_id         101766 non-null  int64 \n",
      " 6   discharge_disposition_id  101766 non-null  int64 \n",
      " 7   admission_source_id       101766 non-null  int64 \n",
      " 8   time_in_hospital          101766 non-null  int64 \n",
      " 9   payer_code                101766 non-null  object\n",
      " 10  medical_specialty         101766 non-null  object\n",
      " 11  num_lab_procedures        101766 non-null  int64 \n",
      " 12  num_procedures            101766 non-null  int64 \n",
      " 13  num_medications           101766 non-null  int64 \n",
      " 14  number_outpatient         101766 non-null  int64 \n",
      " 15  number_emergency          101766 non-null  int64 \n",
      " 16  diag_1                    101766 non-null  object\n",
      " 17  diag_2                    101766 non-null  object\n",
      " 18  diag_3                    101766 non-null  object\n",
      " 19  number_diagnoses          101766 non-null  int64 \n",
      " 20  max_glu_serum             5346 non-null    object\n",
      " 21  A1Cresult                 17018 non-null   object\n",
      " 22  metformin                 101766 non-null  object\n",
      " 23  repaglinide               101766 non-null  object\n",
      " 24  nateglinide               101766 non-null  object\n",
      " 25  chlorpropamide            101766 non-null  object\n",
      " 26  glimepiride               101766 non-null  object\n",
      " 27  acetohexamide             101766 non-null  object\n",
      " 28  glipizide                 101766 non-null  object\n",
      " 29  glyburide                 101766 non-null  object\n",
      " 30  tolbutamide               101766 non-null  object\n",
      " 31  pioglitazone              101766 non-null  object\n",
      " 32  rosiglitazone             101766 non-null  object\n",
      " 33  acarbose                  101766 non-null  object\n",
      " 34  miglitol                  101766 non-null  object\n",
      " 35  troglitazone              101766 non-null  object\n",
      " 36  tolazamide                101766 non-null  object\n",
      " 37  examide                   101766 non-null  object\n",
      " 38  citoglipton               101766 non-null  object\n",
      " 39  insulin                   101766 non-null  object\n",
      " 40  glyburide-metformin       101766 non-null  object\n",
      " 41  glipizide-metformin       101766 non-null  object\n",
      " 42  glimepiride-pioglitazone  101766 non-null  object\n",
      " 43  metformin-rosiglitazone   101766 non-null  object\n",
      " 44  metformin-pioglitazone    101766 non-null  object\n",
      " 45  change                    101766 non-null  object\n",
      " 46  diabetesMed               101766 non-null  object\n",
      " 47  readmitted                101766 non-null  object\n",
      " 48  admit_date                101766 non-null  object\n",
      " 49  birth_date                101766 non-null  object\n",
      "dtypes: int64(12), object(38)\n",
      "memory usage: 38.8+ MB\n"
     ]
    }
   ],
   "source": [
    "# Display the dataframe information \n",
    "diabetes_data.info()\n"
   ]
  },
  {
   "cell_type": "code",
   "execution_count": 154,
   "id": "56b9d06f",
   "metadata": {},
   "outputs": [
    {
     "data": {
      "text/plain": [
       "0         2002-10-22 06:30:00\n",
       "1         2004-07-24 08:35:00\n",
       "2         2005-11-30 06:35:00\n",
       "3         2003-05-26 00:32:00\n",
       "4         2004-04-25 04:04:00\n",
       "                 ...         \n",
       "101761    2008-08-10 03:37:00\n",
       "101762    2008-10-26 09:19:00\n",
       "101763    2007-10-13 05:08:00\n",
       "101764    2009-02-19 21:53:00\n",
       "101765    2007-06-14 15:49:00\n",
       "Name: admit_date, Length: 101766, dtype: object"
      ]
     },
     "execution_count": 154,
     "metadata": {},
     "output_type": "execute_result"
    }
   ],
   "source": [
    "diabetes_data['admit_date']"
   ]
  },
  {
   "cell_type": "code",
   "execution_count": 151,
   "id": "c70bbdf9",
   "metadata": {},
   "outputs": [],
   "source": [
    "# Removing discharge_disposition_id from the data since it is not going to be used\n",
    "diabetes_data.drop(axis=1, labels=['discharge_disposition_id'], inplace=True)"
   ]
  },
  {
   "cell_type": "code",
   "execution_count": 212,
   "id": "99cf24ca",
   "metadata": {},
   "outputs": [],
   "source": [
    "# Calculate age by first converting the columns from object to datetime64 \n",
    "diabetes_data['admit_date'] = pd.to_datetime(diabetes_data['admit_date'])\n",
    "diabetes_data['birth_date'] = pd.to_datetime(diabetes_data['birth_date'])\n",
    "diabetes_data['admit_date'] = diabetes_data['admit_date'].map(datetime.datetime.date)\n",
    "diabetes_data['birth_date'] = diabetes_data['birth_date'].map(datetime.datetime.date)\n",
    "diabetes_data['age'] = ((diabetes_data['admit_date']- diabetes_data['birth_date']).apply(lambda x: x.days)/365.2425)\n"
   ]
  },
  {
   "cell_type": "code",
   "execution_count": null,
   "id": "204fd5e8",
   "metadata": {},
   "outputs": [],
   "source": []
  }
 ],
 "metadata": {
  "kernelspec": {
   "display_name": "Python 3 (ipykernel)",
   "language": "python",
   "name": "python3"
  },
  "language_info": {
   "codemirror_mode": {
    "name": "ipython",
    "version": 3
   },
   "file_extension": ".py",
   "mimetype": "text/x-python",
   "name": "python",
   "nbconvert_exporter": "python",
   "pygments_lexer": "ipython3",
   "version": "3.9.6"
  }
 },
 "nbformat": 4,
 "nbformat_minor": 5
}
